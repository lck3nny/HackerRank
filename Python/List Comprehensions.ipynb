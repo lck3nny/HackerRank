{
 "cells": [
  {
   "cell_type": "code",
   "execution_count": 10,
   "id": "3ee299e3",
   "metadata": {},
   "outputs": [
    {
     "name": "stdout",
     "output_type": "stream",
     "text": [
      "[0, 0, 0]\n",
      "[0, 0, 1]\n",
      "[0, 1, 0]\n",
      "[1, 0, 0]\n",
      "[1, 1, 1]\n"
     ]
    }
   ],
   "source": [
    "x = 1\n",
    "y = 1\n",
    "z = 1\n",
    "n = 2\n",
    "output = []\n",
    "coordinate = []\n",
    "\n",
    "\n",
    "for a in range(x+1):\n",
    "        for b in range(y+1):\n",
    "            for c in range(z+1):\n",
    "                if(a + b + c != n):\n",
    "                    coordinate = [a, b, c]\n",
    "                    output.append(coordinate)\n",
    "                    print(coordinate)\n",
    "    \n",
    "#for i in range(len(output)):\n",
    "#    print(output[i])"
   ]
  },
  {
   "cell_type": "code",
   "execution_count": null,
   "id": "a8df02e4",
   "metadata": {},
   "outputs": [],
   "source": []
  }
 ],
 "metadata": {
  "kernelspec": {
   "display_name": "Python 3",
   "language": "python",
   "name": "python3"
  },
  "language_info": {
   "codemirror_mode": {
    "name": "ipython",
    "version": 3
   },
   "file_extension": ".py",
   "mimetype": "text/x-python",
   "name": "python",
   "nbconvert_exporter": "python",
   "pygments_lexer": "ipython3",
   "version": "3.9.4"
  }
 },
 "nbformat": 4,
 "nbformat_minor": 5
}
