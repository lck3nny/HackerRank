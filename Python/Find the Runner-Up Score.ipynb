{
 "cells": [
  {
   "cell_type": "markdown",
   "id": "bcbb07cb",
   "metadata": {},
   "source": [
    "# Find the Runner-Up Score\n",
    "\n",
    " ********************************************************************* \n",
    " Given the participants' score sheet for your University Sports Day, \n",
    " you are required to find the runner-up score. You are given  scores. \n",
    " Store them in a list and find the score of the runner-up.\n",
    " ********************************************************************* "
   ]
  },
  {
   "cell_type": "code",
   "execution_count": 24,
   "id": "4fc2846e",
   "metadata": {},
   "outputs": [
    {
     "name": "stdout",
     "output_type": "stream",
     "text": [
      "12\n"
     ]
    }
   ],
   "source": [
    "# The first line contains n. The second line contains an array A[] of n integers each separated by a space.\n",
    "n = 5\n",
    "arr = [12, 3, 87, -4, 5]\n",
    "\n",
    "# Sort the array by ascending order\n",
    "\n",
    "arr.sort()\n",
    "ans = arr[arr.index(arr[-1]) -1]\n",
    "# Find the earliest instance of the highest number and print the item 1 prior\n",
    "if(2 <= n <= 10):\n",
    "    if(-100 <= ans <= 100):\n",
    "        print(ans)\n",
    "    \n",
    "    \n"
   ]
  },
  {
   "cell_type": "code",
   "execution_count": null,
   "id": "a210c61e",
   "metadata": {},
   "outputs": [],
   "source": []
  }
 ],
 "metadata": {
  "kernelspec": {
   "display_name": "Python 3",
   "language": "python",
   "name": "python3"
  },
  "language_info": {
   "codemirror_mode": {
    "name": "ipython",
    "version": 3
   },
   "file_extension": ".py",
   "mimetype": "text/x-python",
   "name": "python",
   "nbconvert_exporter": "python",
   "pygments_lexer": "ipython3",
   "version": "3.9.4"
  }
 },
 "nbformat": 4,
 "nbformat_minor": 5
}
