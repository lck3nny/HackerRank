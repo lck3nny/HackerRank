{
 "cells": [
  {
   "cell_type": "markdown",
   "id": "cb4537a1",
   "metadata": {},
   "source": [
    "# Find the Runner-Up Score\n",
    "\n",
    " ********************************************************************* \n",
    " Given the participants' score sheet for your University Sports Day, \n",
    " you are required to find the runner-up score. You are given  scores. \n",
    " Store them in a list and find the score of the runner-up.\n",
    " ********************************************************************* "
   ]
  },
  {
   "cell_type": "code",
   "execution_count": null,
   "id": "7090555d",
   "metadata": {},
   "outputs": [],
   "source": [
    "\n",
    "\n",
    "\n",
    "# The first line contains n. The second line contains an array A[] of n integers each separated by a space.\n",
    "n = 0\n",
    "arr = [2, 3, 6, 6, 5]\n",
    "\n",
    "# Sort the array by ascending order\n",
    "arr.sort()\n",
    "# Find the earliest instance of the highest number and print the item 1 prior\n",
    "print(arr[arr.index(arr[-1] -1)])"
   ]
  }
 ],
 "metadata": {
  "kernelspec": {
   "display_name": "Python 3",
   "language": "python",
   "name": "python3"
  },
  "language_info": {
   "codemirror_mode": {
    "name": "ipython",
    "version": 3
   },
   "file_extension": ".py",
   "mimetype": "text/x-python",
   "name": "python",
   "nbconvert_exporter": "python",
   "pygments_lexer": "ipython3",
   "version": "3.9.4"
  }
 },
 "nbformat": 4,
 "nbformat_minor": 5
}
