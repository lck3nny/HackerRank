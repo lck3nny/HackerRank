{
 "cells": [
  {
   "cell_type": "markdown",
   "id": "a5bea66f",
   "metadata": {},
   "source": [
    "# Nested Lists\n",
    "\n",
    "*****************\n",
    "Given the names and grades for each student in a class of  students, store them in a nested list and print the name(s) of any student(s) having the second lowest grade.\n",
    "\n",
    "    Note: If there are multiple students with the second lowest grade, order their names alphabetically and print each name on a new line.\n",
    "***********"
   ]
  },
  {
   "cell_type": "code",
   "execution_count": 38,
   "id": "1f8c98ca",
   "metadata": {},
   "outputs": [
    {
     "name": "stdout",
     "output_type": "stream",
     "text": [
      "6\n",
      "alex\n",
      "25.8\n",
      "bob\n",
      "76.3\n",
      "charlie\n",
      "73.5\n",
      "dylan\n",
      "88.8\n",
      "ed\n",
      "9.2\n",
      "fran\n",
      "33.4\n"
     ]
    }
   ],
   "source": [
    "if __name__ == '__main__':\n",
    "    grades = []\n",
    "    for _ in range(int(input())):\n",
    "        name = input()\n",
    "        score = float(input())\n",
    "        # Append each input to a list\n",
    "        grades.append([name, score])"
   ]
  },
  {
   "cell_type": "code",
   "execution_count": 40,
   "id": "388cf866",
   "metadata": {},
   "outputs": [
    {
     "name": "stdout",
     "output_type": "stream",
     "text": [
      "alex\n"
     ]
    }
   ],
   "source": [
    "# Sort the list based on grade value\n",
    "grades_sorted = sorted(grades, key=lambda x: float(x[1]))\n",
    "sec_lowest_student = []\n",
    "\n",
    "# Determine the second lowest score\n",
    "# - Check for two or more of the same grade\n",
    "for x in range(len(grades)):\n",
    "    if(grades_sorted[x][1] != grades_sorted[0][1]):\n",
    "        sec_lowest_score = grades_sorted[x][1]\n",
    "        break;\n",
    "    \n",
    "# Find each of the students with the second lowest score\n",
    "for x in range(len(grades)):\n",
    "    if(grades_sorted[x][1] == sec_lowest_score):\n",
    "        sec_lowest_student.append(grades_sorted[x])\n",
    "\n",
    "# Sort students by their name and print\n",
    "sec_lowest_student.sort()\n",
    "for student in sec_lowest_student:\n",
    "    print(student[0])"
   ]
  }
 ],
 "metadata": {
  "kernelspec": {
   "display_name": "Python 3",
   "language": "python",
   "name": "python3"
  },
  "language_info": {
   "codemirror_mode": {
    "name": "ipython",
    "version": 3
   },
   "file_extension": ".py",
   "mimetype": "text/x-python",
   "name": "python",
   "nbconvert_exporter": "python",
   "pygments_lexer": "ipython3",
   "version": "3.9.4"
  }
 },
 "nbformat": 4,
 "nbformat_minor": 5
}
